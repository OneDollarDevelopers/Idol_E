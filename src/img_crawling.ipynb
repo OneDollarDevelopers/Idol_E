{
 "cells": [
  {
   "cell_type": "code",
   "execution_count": 2,
   "metadata": {},
   "outputs": [],
   "source": [
    "from urllib.request import urlopen\n",
    "from selenium import webdriver\n",
    "from selenium.webdriver.common.keys import Keys\n",
    "import time\n",
    "import urllib.request\n",
    "from selenium.webdriver.common.by import By\n",
    "\n",
    "searches = \"이달의 소녀 희진\", \"이달의 소녀 현진\", \"이달의 소녀 하슬\", \"이달의 소녀 여진\", \"이달의 소녀 비비\", \"이달의 소녀 김립\", \"이달의 소녀 진솔\", \"이달의 소녀 최리\", \"이달의 소녀 이브\", \"이달의 소녀 고원\", \"이달의 소녀 올리비아 혜\", \"이달의 소녀 츄\"\n",
    "# searches = \"르세라핌 사쿠라\", \"르세라핌 카즈하\", \"르세라핌 허윤진\", \"르세라핌 홍은채\"\n",
    "# searches = \"스테이씨 시은\", \"스테이씨 수민\", \"스테이씨 아이사\", \"스테이씨 세은\", \"스테이씨 윤\", \"스테이씨 재이\"\n",
    "# names = \"sakura\", \"kazuha\", \"huhyunjin\", \"hongeunchae\"\n",
    "names = \"heejin\", \"hyunjin\", \"haseul\", \"yeojin\", \"vivi\", \"kim lip\",\"jinsoul\",\"choilee\", \"yves\",\"gowon\",\"olivia hye\",\"chuu\"\n",
    "\n",
    "for i in range(len(searches)):\n",
    "    search = searches[i]\n",
    "    name = names[i]\n",
    "    driver = webdriver.Chrome()\n",
    "    driver.get(\"https://www.google.co.kr/imghp?hl=ko&ogbl\")\n",
    "    driver.maximize_window()\n",
    "    elem = driver.find_element(By.NAME, \"q\")\n",
    "    elem.send_keys(search)\n",
    "    elem.send_keys(Keys.RETURN)\n",
    "\n",
    "    SCROLL_PAUSE_TIME = 1\n",
    "\n",
    "    last_height = driver.execute_script(\"return document.body.scrollHeight\")\n",
    "\n",
    "    while True:\n",
    "        driver.execute_script(\"window.scrollTo(0, document.body.scrollHeight);\")\n",
    "        time.sleep(SCROLL_PAUSE_TIME)\n",
    "        new_height = driver.execute_script(\"return document.body.scrollHeight\")\n",
    "\n",
    "        if new_height == last_height:\n",
    "            try:\n",
    "                driver.find_element(By.CSS_SELECTOR, \".mye4qd\").click()\n",
    "            except:\n",
    "                break\n",
    "        last_height = new_height\n",
    "\n",
    "    images = driver.find_elements(By.CSS_SELECTOR, \".rg_i.Q4LuWd\")\n",
    "    count = 1\n",
    "\n",
    "    for image in images:    \n",
    "        save_dir = \"./temp/\" +name+\"/\"+ str(count) + \".jpg\"\n",
    "        try:\n",
    "            image.click()\n",
    "            time.sleep(2)\n",
    "            imgUrl = driver.find_element(By.XPATH, '//*[@id=\"Sva75c\"]/*/div/div[2]/div[2]/div[2]/c-wiz/div[2]/div[1]/div[1]/div[2]/div/a/img').get_attribute('src')\n",
    "            urllib.request.urlretrieve(imgUrl, save_dir)\n",
    "            count += 1\n",
    "        except:\n",
    "            pass\n",
    "\n",
    "    driver.close()"
   ]
  }
 ],
 "metadata": {
  "kernelspec": {
   "display_name": "Python 3.10.8 64-bit (microsoft store)",
   "language": "python",
   "name": "python3"
  },
  "language_info": {
   "codemirror_mode": {
    "name": "ipython",
    "version": 3
   },
   "file_extension": ".py",
   "mimetype": "text/x-python",
   "name": "python",
   "nbconvert_exporter": "python",
   "pygments_lexer": "ipython3",
   "version": "3.10.8"
  },
  "orig_nbformat": 4,
  "vscode": {
   "interpreter": {
    "hash": "b291784dc94be6d06ba76e00febc753a402e0131fd93566b3ffb6b993e6d79b2"
   }
  }
 },
 "nbformat": 4,
 "nbformat_minor": 2
}
