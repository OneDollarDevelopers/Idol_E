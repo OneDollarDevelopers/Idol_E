{
 "cells": [
  {
   "cell_type": "code",
   "execution_count": 26,
   "metadata": {},
   "outputs": [],
   "source": [
    "import cv2, os\n",
    "\n",
    "# names = \"sakura\", \"kazuha\", \"huhyunjin\", \"hongeunchae\"\n",
    "names = \"heejin\", \"hyunjin\", \"haseul\", \"yeojin\", \"vivi\", \"kim lip\",\"jinsoul\",\"choilee\", \"yves\",\"gowon\",\"olivia hye\",\"chuu\"\n",
    "\n",
    "for name in names:\n",
    "\n",
    "    dir_path = \"./temp/\" + name\n",
    "\n",
    "    images_list = []\n",
    "\n",
    "    for (root, directories, files) in os.walk(dir_path):\n",
    "        for d in directories:\n",
    "            d_path = os.path.join(root, d)\n",
    "\n",
    "        for file in files:\n",
    "            file_path = root + \"/\" + file\n",
    "            if \"jpg\" in file_path:\n",
    "                images_list.append(file_path)\n",
    "    \n",
    "    for img_name in images_list:\n",
    "        try:\n",
    "            face_cascade = cv2.CascadeClassifier(cv2.data.haarcascades + 'haarcascade_frontalface_default.xml')\n",
    "            img = cv2.imread(img_name)\n",
    "            gray = cv2.cvtColor(img, cv2.COLOR_BGR2GRAY)\n",
    "            faces = face_cascade.detectMultiScale(gray, 1.3,5)\n",
    "            if len(faces) > 0:\n",
    "                for (x,y,w,h) in faces:\n",
    "                    cv2.rectangle(img, (x,y), (x+w, y+h), (0,0,0),0)\n",
    "                    cropped = img[y:y + h, x:x + w]\n",
    "                    \n",
    "                save_dir = img_name.replace(\"temp\", \"crop\")\n",
    "                img = cv2.imwrite(save_dir, cropped)\n",
    "        except:\n",
    "            pass"
   ]
  }
 ],
 "metadata": {
  "kernelspec": {
   "display_name": "Python 3.11.0 64-bit",
   "language": "python",
   "name": "python3"
  },
  "language_info": {
   "codemirror_mode": {
    "name": "ipython",
    "version": 3
   },
   "file_extension": ".py",
   "mimetype": "text/x-python",
   "name": "python",
   "nbconvert_exporter": "python",
   "pygments_lexer": "ipython3",
   "version": "3.11.0"
  },
  "orig_nbformat": 4,
  "vscode": {
   "interpreter": {
    "hash": "4b450e582db2a57c34d6d5a29c7d9d66a7b81f2cd0061637d26146440a1f4bad"
   }
  }
 },
 "nbformat": 4,
 "nbformat_minor": 2
}
