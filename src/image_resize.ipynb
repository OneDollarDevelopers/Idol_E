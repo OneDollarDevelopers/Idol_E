{
 "cells": [
  {
   "cell_type": "code",
   "execution_count": 1,
   "metadata": {},
   "outputs": [
    {
     "name": "stderr",
     "output_type": "stream",
     "text": [
      "C:\\Users\\j3322\\AppData\\Local\\Temp\\ipykernel_31196\\242418248.py:18: DeprecationWarning: LANCZOS is deprecated and will be removed in Pillow 10 (2023-07-01). Use Resampling.LANCZOS instead.\n",
      "  img_resize = img.resize((256, 256), Image.LANCZOS)\n"
     ]
    }
   ],
   "source": [
    "import os\n",
    "import glob\n",
    "from PIL import Image\n",
    "\n",
    "mode = True\n",
    "# names = \"sakura\", \"kazuha\", \"huhyunjin\", \"hongeunchae\"\n",
    "names = \"heejin\", \"hyunjin\", \"haseul\", \"yeojin\", \"vivi\", \"kim lip\",\"jinsoul\",\"choilee\", \"yves\",\"gowon\",\"olivia hye\",\"chuu\"\n",
    "\n",
    "for name in names:\n",
    "\n",
    "    if mode:\n",
    "        dir = os.path.join(\"..\\original\\crop\\\\\" , name, '*.jpg')\n",
    "\n",
    "        files = glob.glob(dir)\n",
    "\n",
    "        for f in files:\n",
    "            img = Image.open(f)\n",
    "            img_resize = img.resize((256, 256), Image.LANCZOS)\n",
    "            save_dir = f.replace('..\\original\\\\crop', 'train')\n",
    "            img_resize.save(save_dir)\n",
    "\n",
    "    else:\n",
    "        dir = os.path.join(\"original\\\\\" , name, '*.jpg')\n",
    "\n",
    "        files = glob.glob(dir)\n",
    "\n",
    "        for f in files:\n",
    "            img = Image.open(f)\n",
    "            img_resize = img.resize((256, 256), Image.LANCZOS)\n",
    "            save_dir = f.replace('original', 'train')\n",
    "            img_resize.save(save_dir)"
   ]
  }
 ],
 "metadata": {
  "kernelspec": {
   "display_name": "Python 3.10.8 64-bit (microsoft store)",
   "language": "python",
   "name": "python3"
  },
  "language_info": {
   "codemirror_mode": {
    "name": "ipython",
    "version": 3
   },
   "file_extension": ".py",
   "mimetype": "text/x-python",
   "name": "python",
   "nbconvert_exporter": "python",
   "pygments_lexer": "ipython3",
   "version": "3.10.8"
  },
  "orig_nbformat": 4,
  "vscode": {
   "interpreter": {
    "hash": "b291784dc94be6d06ba76e00febc753a402e0131fd93566b3ffb6b993e6d79b2"
   }
  }
 },
 "nbformat": 4,
 "nbformat_minor": 2
}
