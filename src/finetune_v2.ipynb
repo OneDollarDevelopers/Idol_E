{
 "cells": [
  {
   "cell_type": "markdown",
   "metadata": {},
   "source": [
    "# Face detection and recognition training pipeline\n",
    "\n",
    "The following example illustrates how to fine-tune an InceptionResnetV1 model on your own dataset. This will mostly follow standard pytorch training patterns."
   ]
  },
  {
   "cell_type": "code",
   "execution_count": 1,
   "metadata": {},
   "outputs": [],
   "source": [
    "from facenet_pytorch import MTCNN, InceptionResnetV1, fixed_image_standardization, training\n",
    "import torch\n",
    "from torch.utils.data import DataLoader, SubsetRandomSampler\n",
    "from torch import optim\n",
    "from torch.optim.lr_scheduler import MultiStepLR\n",
    "from torch.utils.tensorboard import SummaryWriter\n",
    "from torchvision import datasets, transforms\n",
    "import numpy as np\n",
    "import os\n",
    "import tqdm"
   ]
  },
  {
   "cell_type": "markdown",
   "metadata": {},
   "source": [
    "#### Define run parameters\n",
    "\n",
    "The dataset should follow the VGGFace2/ImageNet-style directory layout. Modify `data_dir` to the location of the dataset on wish to finetune on."
   ]
  },
  {
   "cell_type": "code",
   "execution_count": 2,
   "metadata": {},
   "outputs": [],
   "source": [
    "data_dir = '../train'\n",
    "\n",
    "batch_size = 32\n",
    "epochs = 8\n",
    "workers = 0 if os.name == 'nt' else 8"
   ]
  },
  {
   "cell_type": "markdown",
   "metadata": {},
   "source": [
    "#### Determine if an nvidia GPU is available"
   ]
  },
  {
   "cell_type": "code",
   "execution_count": 3,
   "metadata": {},
   "outputs": [
    {
     "name": "stdout",
     "output_type": "stream",
     "text": [
      "Running on device: cpu\n"
     ]
    }
   ],
   "source": [
    "device = torch.device('cuda:0' if torch.cuda.is_available() else 'cpu')\n",
    "print('Running on device: {}'.format(device))"
   ]
  },
  {
   "cell_type": "markdown",
   "metadata": {},
   "source": [
    "#### Define MTCNN module\n",
    "\n",
    "See `help(MTCNN)` for more details."
   ]
  },
  {
   "cell_type": "code",
   "execution_count": 4,
   "metadata": {},
   "outputs": [],
   "source": [
    "mtcnn = MTCNN(\n",
    "    image_size=160, margin=0, min_face_size=20,\n",
    "    thresholds=[0.6, 0.7, 0.7], factor=0.709, post_process=True,\n",
    "    device=device\n",
    ")"
   ]
  },
  {
   "cell_type": "markdown",
   "metadata": {},
   "source": [
    "#### Perfom MTCNN facial detection\n",
    "\n",
    "Iterate through the DataLoader object and obtain cropped faces."
   ]
  },
  {
   "cell_type": "code",
   "execution_count": 5,
   "metadata": {
    "scrolled": true
   },
   "outputs": [],
   "source": [
    "dataset = datasets.ImageFolder(data_dir, transform=transforms.Resize((512, 512)))\n",
    "dataset.samples = [\n",
    "    (p, p.replace(data_dir, data_dir + '_cropped'))\n",
    "        for p, _ in dataset.samples\n",
    "]\n",
    "        \n",
    "loader = DataLoader(\n",
    "    dataset,\n",
    "    num_workers=workers,\n",
    "    batch_size=batch_size,\n",
    "    collate_fn=training.collate_pil\n",
    ")\n",
    "\n",
    "# for i, (x, y) in tqdm.tqdm(enumerate(loader)):\n",
    "#     mtcnn(x, save_path=y)\n",
    "#     print('\\rBatch {} of {}'.format(i + 1, len(loader)), end='')\n",
    "    \n",
    "# Remove mtcnn to reduce GPU memory usage\n",
    "# del mtcnn"
   ]
  },
  {
   "cell_type": "markdown",
   "metadata": {},
   "source": [
    "#### Define Inception Resnet V1 module\n",
    "\n",
    "See `help(InceptionResnetV1)` for more details."
   ]
  },
  {
   "cell_type": "code",
   "execution_count": 6,
   "metadata": {},
   "outputs": [],
   "source": [
    "resnet = InceptionResnetV1(\n",
    "    classify=True,\n",
    "    pretrained='vggface2',\n",
    "    num_classes=len(dataset.class_to_idx)\n",
    ").to(device)"
   ]
  },
  {
   "cell_type": "code",
   "execution_count": 7,
   "metadata": {},
   "outputs": [
    {
     "data": {
      "text/plain": [
       "odict_keys(['conv2d_1a.conv.weight', 'conv2d_1a.bn.weight', 'conv2d_1a.bn.bias', 'conv2d_1a.bn.running_mean', 'conv2d_1a.bn.running_var', 'conv2d_1a.bn.num_batches_tracked', 'conv2d_2a.conv.weight', 'conv2d_2a.bn.weight', 'conv2d_2a.bn.bias', 'conv2d_2a.bn.running_mean', 'conv2d_2a.bn.running_var', 'conv2d_2a.bn.num_batches_tracked', 'conv2d_2b.conv.weight', 'conv2d_2b.bn.weight', 'conv2d_2b.bn.bias', 'conv2d_2b.bn.running_mean', 'conv2d_2b.bn.running_var', 'conv2d_2b.bn.num_batches_tracked', 'conv2d_3b.conv.weight', 'conv2d_3b.bn.weight', 'conv2d_3b.bn.bias', 'conv2d_3b.bn.running_mean', 'conv2d_3b.bn.running_var', 'conv2d_3b.bn.num_batches_tracked', 'conv2d_4a.conv.weight', 'conv2d_4a.bn.weight', 'conv2d_4a.bn.bias', 'conv2d_4a.bn.running_mean', 'conv2d_4a.bn.running_var', 'conv2d_4a.bn.num_batches_tracked', 'conv2d_4b.conv.weight', 'conv2d_4b.bn.weight', 'conv2d_4b.bn.bias', 'conv2d_4b.bn.running_mean', 'conv2d_4b.bn.running_var', 'conv2d_4b.bn.num_batches_tracked', 'repeat_1.0.branch0.conv.weight', 'repeat_1.0.branch0.bn.weight', 'repeat_1.0.branch0.bn.bias', 'repeat_1.0.branch0.bn.running_mean', 'repeat_1.0.branch0.bn.running_var', 'repeat_1.0.branch0.bn.num_batches_tracked', 'repeat_1.0.branch1.0.conv.weight', 'repeat_1.0.branch1.0.bn.weight', 'repeat_1.0.branch1.0.bn.bias', 'repeat_1.0.branch1.0.bn.running_mean', 'repeat_1.0.branch1.0.bn.running_var', 'repeat_1.0.branch1.0.bn.num_batches_tracked', 'repeat_1.0.branch1.1.conv.weight', 'repeat_1.0.branch1.1.bn.weight', 'repeat_1.0.branch1.1.bn.bias', 'repeat_1.0.branch1.1.bn.running_mean', 'repeat_1.0.branch1.1.bn.running_var', 'repeat_1.0.branch1.1.bn.num_batches_tracked', 'repeat_1.0.branch2.0.conv.weight', 'repeat_1.0.branch2.0.bn.weight', 'repeat_1.0.branch2.0.bn.bias', 'repeat_1.0.branch2.0.bn.running_mean', 'repeat_1.0.branch2.0.bn.running_var', 'repeat_1.0.branch2.0.bn.num_batches_tracked', 'repeat_1.0.branch2.1.conv.weight', 'repeat_1.0.branch2.1.bn.weight', 'repeat_1.0.branch2.1.bn.bias', 'repeat_1.0.branch2.1.bn.running_mean', 'repeat_1.0.branch2.1.bn.running_var', 'repeat_1.0.branch2.1.bn.num_batches_tracked', 'repeat_1.0.branch2.2.conv.weight', 'repeat_1.0.branch2.2.bn.weight', 'repeat_1.0.branch2.2.bn.bias', 'repeat_1.0.branch2.2.bn.running_mean', 'repeat_1.0.branch2.2.bn.running_var', 'repeat_1.0.branch2.2.bn.num_batches_tracked', 'repeat_1.0.conv2d.weight', 'repeat_1.0.conv2d.bias', 'repeat_1.1.branch0.conv.weight', 'repeat_1.1.branch0.bn.weight', 'repeat_1.1.branch0.bn.bias', 'repeat_1.1.branch0.bn.running_mean', 'repeat_1.1.branch0.bn.running_var', 'repeat_1.1.branch0.bn.num_batches_tracked', 'repeat_1.1.branch1.0.conv.weight', 'repeat_1.1.branch1.0.bn.weight', 'repeat_1.1.branch1.0.bn.bias', 'repeat_1.1.branch1.0.bn.running_mean', 'repeat_1.1.branch1.0.bn.running_var', 'repeat_1.1.branch1.0.bn.num_batches_tracked', 'repeat_1.1.branch1.1.conv.weight', 'repeat_1.1.branch1.1.bn.weight', 'repeat_1.1.branch1.1.bn.bias', 'repeat_1.1.branch1.1.bn.running_mean', 'repeat_1.1.branch1.1.bn.running_var', 'repeat_1.1.branch1.1.bn.num_batches_tracked', 'repeat_1.1.branch2.0.conv.weight', 'repeat_1.1.branch2.0.bn.weight', 'repeat_1.1.branch2.0.bn.bias', 'repeat_1.1.branch2.0.bn.running_mean', 'repeat_1.1.branch2.0.bn.running_var', 'repeat_1.1.branch2.0.bn.num_batches_tracked', 'repeat_1.1.branch2.1.conv.weight', 'repeat_1.1.branch2.1.bn.weight', 'repeat_1.1.branch2.1.bn.bias', 'repeat_1.1.branch2.1.bn.running_mean', 'repeat_1.1.branch2.1.bn.running_var', 'repeat_1.1.branch2.1.bn.num_batches_tracked', 'repeat_1.1.branch2.2.conv.weight', 'repeat_1.1.branch2.2.bn.weight', 'repeat_1.1.branch2.2.bn.bias', 'repeat_1.1.branch2.2.bn.running_mean', 'repeat_1.1.branch2.2.bn.running_var', 'repeat_1.1.branch2.2.bn.num_batches_tracked', 'repeat_1.1.conv2d.weight', 'repeat_1.1.conv2d.bias', 'repeat_1.2.branch0.conv.weight', 'repeat_1.2.branch0.bn.weight', 'repeat_1.2.branch0.bn.bias', 'repeat_1.2.branch0.bn.running_mean', 'repeat_1.2.branch0.bn.running_var', 'repeat_1.2.branch0.bn.num_batches_tracked', 'repeat_1.2.branch1.0.conv.weight', 'repeat_1.2.branch1.0.bn.weight', 'repeat_1.2.branch1.0.bn.bias', 'repeat_1.2.branch1.0.bn.running_mean', 'repeat_1.2.branch1.0.bn.running_var', 'repeat_1.2.branch1.0.bn.num_batches_tracked', 'repeat_1.2.branch1.1.conv.weight', 'repeat_1.2.branch1.1.bn.weight', 'repeat_1.2.branch1.1.bn.bias', 'repeat_1.2.branch1.1.bn.running_mean', 'repeat_1.2.branch1.1.bn.running_var', 'repeat_1.2.branch1.1.bn.num_batches_tracked', 'repeat_1.2.branch2.0.conv.weight', 'repeat_1.2.branch2.0.bn.weight', 'repeat_1.2.branch2.0.bn.bias', 'repeat_1.2.branch2.0.bn.running_mean', 'repeat_1.2.branch2.0.bn.running_var', 'repeat_1.2.branch2.0.bn.num_batches_tracked', 'repeat_1.2.branch2.1.conv.weight', 'repeat_1.2.branch2.1.bn.weight', 'repeat_1.2.branch2.1.bn.bias', 'repeat_1.2.branch2.1.bn.running_mean', 'repeat_1.2.branch2.1.bn.running_var', 'repeat_1.2.branch2.1.bn.num_batches_tracked', 'repeat_1.2.branch2.2.conv.weight', 'repeat_1.2.branch2.2.bn.weight', 'repeat_1.2.branch2.2.bn.bias', 'repeat_1.2.branch2.2.bn.running_mean', 'repeat_1.2.branch2.2.bn.running_var', 'repeat_1.2.branch2.2.bn.num_batches_tracked', 'repeat_1.2.conv2d.weight', 'repeat_1.2.conv2d.bias', 'repeat_1.3.branch0.conv.weight', 'repeat_1.3.branch0.bn.weight', 'repeat_1.3.branch0.bn.bias', 'repeat_1.3.branch0.bn.running_mean', 'repeat_1.3.branch0.bn.running_var', 'repeat_1.3.branch0.bn.num_batches_tracked', 'repeat_1.3.branch1.0.conv.weight', 'repeat_1.3.branch1.0.bn.weight', 'repeat_1.3.branch1.0.bn.bias', 'repeat_1.3.branch1.0.bn.running_mean', 'repeat_1.3.branch1.0.bn.running_var', 'repeat_1.3.branch1.0.bn.num_batches_tracked', 'repeat_1.3.branch1.1.conv.weight', 'repeat_1.3.branch1.1.bn.weight', 'repeat_1.3.branch1.1.bn.bias', 'repeat_1.3.branch1.1.bn.running_mean', 'repeat_1.3.branch1.1.bn.running_var', 'repeat_1.3.branch1.1.bn.num_batches_tracked', 'repeat_1.3.branch2.0.conv.weight', 'repeat_1.3.branch2.0.bn.weight', 'repeat_1.3.branch2.0.bn.bias', 'repeat_1.3.branch2.0.bn.running_mean', 'repeat_1.3.branch2.0.bn.running_var', 'repeat_1.3.branch2.0.bn.num_batches_tracked', 'repeat_1.3.branch2.1.conv.weight', 'repeat_1.3.branch2.1.bn.weight', 'repeat_1.3.branch2.1.bn.bias', 'repeat_1.3.branch2.1.bn.running_mean', 'repeat_1.3.branch2.1.bn.running_var', 'repeat_1.3.branch2.1.bn.num_batches_tracked', 'repeat_1.3.branch2.2.conv.weight', 'repeat_1.3.branch2.2.bn.weight', 'repeat_1.3.branch2.2.bn.bias', 'repeat_1.3.branch2.2.bn.running_mean', 'repeat_1.3.branch2.2.bn.running_var', 'repeat_1.3.branch2.2.bn.num_batches_tracked', 'repeat_1.3.conv2d.weight', 'repeat_1.3.conv2d.bias', 'repeat_1.4.branch0.conv.weight', 'repeat_1.4.branch0.bn.weight', 'repeat_1.4.branch0.bn.bias', 'repeat_1.4.branch0.bn.running_mean', 'repeat_1.4.branch0.bn.running_var', 'repeat_1.4.branch0.bn.num_batches_tracked', 'repeat_1.4.branch1.0.conv.weight', 'repeat_1.4.branch1.0.bn.weight', 'repeat_1.4.branch1.0.bn.bias', 'repeat_1.4.branch1.0.bn.running_mean', 'repeat_1.4.branch1.0.bn.running_var', 'repeat_1.4.branch1.0.bn.num_batches_tracked', 'repeat_1.4.branch1.1.conv.weight', 'repeat_1.4.branch1.1.bn.weight', 'repeat_1.4.branch1.1.bn.bias', 'repeat_1.4.branch1.1.bn.running_mean', 'repeat_1.4.branch1.1.bn.running_var', 'repeat_1.4.branch1.1.bn.num_batches_tracked', 'repeat_1.4.branch2.0.conv.weight', 'repeat_1.4.branch2.0.bn.weight', 'repeat_1.4.branch2.0.bn.bias', 'repeat_1.4.branch2.0.bn.running_mean', 'repeat_1.4.branch2.0.bn.running_var', 'repeat_1.4.branch2.0.bn.num_batches_tracked', 'repeat_1.4.branch2.1.conv.weight', 'repeat_1.4.branch2.1.bn.weight', 'repeat_1.4.branch2.1.bn.bias', 'repeat_1.4.branch2.1.bn.running_mean', 'repeat_1.4.branch2.1.bn.running_var', 'repeat_1.4.branch2.1.bn.num_batches_tracked', 'repeat_1.4.branch2.2.conv.weight', 'repeat_1.4.branch2.2.bn.weight', 'repeat_1.4.branch2.2.bn.bias', 'repeat_1.4.branch2.2.bn.running_mean', 'repeat_1.4.branch2.2.bn.running_var', 'repeat_1.4.branch2.2.bn.num_batches_tracked', 'repeat_1.4.conv2d.weight', 'repeat_1.4.conv2d.bias', 'mixed_6a.branch0.conv.weight', 'mixed_6a.branch0.bn.weight', 'mixed_6a.branch0.bn.bias', 'mixed_6a.branch0.bn.running_mean', 'mixed_6a.branch0.bn.running_var', 'mixed_6a.branch0.bn.num_batches_tracked', 'mixed_6a.branch1.0.conv.weight', 'mixed_6a.branch1.0.bn.weight', 'mixed_6a.branch1.0.bn.bias', 'mixed_6a.branch1.0.bn.running_mean', 'mixed_6a.branch1.0.bn.running_var', 'mixed_6a.branch1.0.bn.num_batches_tracked', 'mixed_6a.branch1.1.conv.weight', 'mixed_6a.branch1.1.bn.weight', 'mixed_6a.branch1.1.bn.bias', 'mixed_6a.branch1.1.bn.running_mean', 'mixed_6a.branch1.1.bn.running_var', 'mixed_6a.branch1.1.bn.num_batches_tracked', 'mixed_6a.branch1.2.conv.weight', 'mixed_6a.branch1.2.bn.weight', 'mixed_6a.branch1.2.bn.bias', 'mixed_6a.branch1.2.bn.running_mean', 'mixed_6a.branch1.2.bn.running_var', 'mixed_6a.branch1.2.bn.num_batches_tracked', 'repeat_2.0.branch0.conv.weight', 'repeat_2.0.branch0.bn.weight', 'repeat_2.0.branch0.bn.bias', 'repeat_2.0.branch0.bn.running_mean', 'repeat_2.0.branch0.bn.running_var', 'repeat_2.0.branch0.bn.num_batches_tracked', 'repeat_2.0.branch1.0.conv.weight', 'repeat_2.0.branch1.0.bn.weight', 'repeat_2.0.branch1.0.bn.bias', 'repeat_2.0.branch1.0.bn.running_mean', 'repeat_2.0.branch1.0.bn.running_var', 'repeat_2.0.branch1.0.bn.num_batches_tracked', 'repeat_2.0.branch1.1.conv.weight', 'repeat_2.0.branch1.1.bn.weight', 'repeat_2.0.branch1.1.bn.bias', 'repeat_2.0.branch1.1.bn.running_mean', 'repeat_2.0.branch1.1.bn.running_var', 'repeat_2.0.branch1.1.bn.num_batches_tracked', 'repeat_2.0.branch1.2.conv.weight', 'repeat_2.0.branch1.2.bn.weight', 'repeat_2.0.branch1.2.bn.bias', 'repeat_2.0.branch1.2.bn.running_mean', 'repeat_2.0.branch1.2.bn.running_var', 'repeat_2.0.branch1.2.bn.num_batches_tracked', 'repeat_2.0.conv2d.weight', 'repeat_2.0.conv2d.bias', 'repeat_2.1.branch0.conv.weight', 'repeat_2.1.branch0.bn.weight', 'repeat_2.1.branch0.bn.bias', 'repeat_2.1.branch0.bn.running_mean', 'repeat_2.1.branch0.bn.running_var', 'repeat_2.1.branch0.bn.num_batches_tracked', 'repeat_2.1.branch1.0.conv.weight', 'repeat_2.1.branch1.0.bn.weight', 'repeat_2.1.branch1.0.bn.bias', 'repeat_2.1.branch1.0.bn.running_mean', 'repeat_2.1.branch1.0.bn.running_var', 'repeat_2.1.branch1.0.bn.num_batches_tracked', 'repeat_2.1.branch1.1.conv.weight', 'repeat_2.1.branch1.1.bn.weight', 'repeat_2.1.branch1.1.bn.bias', 'repeat_2.1.branch1.1.bn.running_mean', 'repeat_2.1.branch1.1.bn.running_var', 'repeat_2.1.branch1.1.bn.num_batches_tracked', 'repeat_2.1.branch1.2.conv.weight', 'repeat_2.1.branch1.2.bn.weight', 'repeat_2.1.branch1.2.bn.bias', 'repeat_2.1.branch1.2.bn.running_mean', 'repeat_2.1.branch1.2.bn.running_var', 'repeat_2.1.branch1.2.bn.num_batches_tracked', 'repeat_2.1.conv2d.weight', 'repeat_2.1.conv2d.bias', 'repeat_2.2.branch0.conv.weight', 'repeat_2.2.branch0.bn.weight', 'repeat_2.2.branch0.bn.bias', 'repeat_2.2.branch0.bn.running_mean', 'repeat_2.2.branch0.bn.running_var', 'repeat_2.2.branch0.bn.num_batches_tracked', 'repeat_2.2.branch1.0.conv.weight', 'repeat_2.2.branch1.0.bn.weight', 'repeat_2.2.branch1.0.bn.bias', 'repeat_2.2.branch1.0.bn.running_mean', 'repeat_2.2.branch1.0.bn.running_var', 'repeat_2.2.branch1.0.bn.num_batches_tracked', 'repeat_2.2.branch1.1.conv.weight', 'repeat_2.2.branch1.1.bn.weight', 'repeat_2.2.branch1.1.bn.bias', 'repeat_2.2.branch1.1.bn.running_mean', 'repeat_2.2.branch1.1.bn.running_var', 'repeat_2.2.branch1.1.bn.num_batches_tracked', 'repeat_2.2.branch1.2.conv.weight', 'repeat_2.2.branch1.2.bn.weight', 'repeat_2.2.branch1.2.bn.bias', 'repeat_2.2.branch1.2.bn.running_mean', 'repeat_2.2.branch1.2.bn.running_var', 'repeat_2.2.branch1.2.bn.num_batches_tracked', 'repeat_2.2.conv2d.weight', 'repeat_2.2.conv2d.bias', 'repeat_2.3.branch0.conv.weight', 'repeat_2.3.branch0.bn.weight', 'repeat_2.3.branch0.bn.bias', 'repeat_2.3.branch0.bn.running_mean', 'repeat_2.3.branch0.bn.running_var', 'repeat_2.3.branch0.bn.num_batches_tracked', 'repeat_2.3.branch1.0.conv.weight', 'repeat_2.3.branch1.0.bn.weight', 'repeat_2.3.branch1.0.bn.bias', 'repeat_2.3.branch1.0.bn.running_mean', 'repeat_2.3.branch1.0.bn.running_var', 'repeat_2.3.branch1.0.bn.num_batches_tracked', 'repeat_2.3.branch1.1.conv.weight', 'repeat_2.3.branch1.1.bn.weight', 'repeat_2.3.branch1.1.bn.bias', 'repeat_2.3.branch1.1.bn.running_mean', 'repeat_2.3.branch1.1.bn.running_var', 'repeat_2.3.branch1.1.bn.num_batches_tracked', 'repeat_2.3.branch1.2.conv.weight', 'repeat_2.3.branch1.2.bn.weight', 'repeat_2.3.branch1.2.bn.bias', 'repeat_2.3.branch1.2.bn.running_mean', 'repeat_2.3.branch1.2.bn.running_var', 'repeat_2.3.branch1.2.bn.num_batches_tracked', 'repeat_2.3.conv2d.weight', 'repeat_2.3.conv2d.bias', 'repeat_2.4.branch0.conv.weight', 'repeat_2.4.branch0.bn.weight', 'repeat_2.4.branch0.bn.bias', 'repeat_2.4.branch0.bn.running_mean', 'repeat_2.4.branch0.bn.running_var', 'repeat_2.4.branch0.bn.num_batches_tracked', 'repeat_2.4.branch1.0.conv.weight', 'repeat_2.4.branch1.0.bn.weight', 'repeat_2.4.branch1.0.bn.bias', 'repeat_2.4.branch1.0.bn.running_mean', 'repeat_2.4.branch1.0.bn.running_var', 'repeat_2.4.branch1.0.bn.num_batches_tracked', 'repeat_2.4.branch1.1.conv.weight', 'repeat_2.4.branch1.1.bn.weight', 'repeat_2.4.branch1.1.bn.bias', 'repeat_2.4.branch1.1.bn.running_mean', 'repeat_2.4.branch1.1.bn.running_var', 'repeat_2.4.branch1.1.bn.num_batches_tracked', 'repeat_2.4.branch1.2.conv.weight', 'repeat_2.4.branch1.2.bn.weight', 'repeat_2.4.branch1.2.bn.bias', 'repeat_2.4.branch1.2.bn.running_mean', 'repeat_2.4.branch1.2.bn.running_var', 'repeat_2.4.branch1.2.bn.num_batches_tracked', 'repeat_2.4.conv2d.weight', 'repeat_2.4.conv2d.bias', 'repeat_2.5.branch0.conv.weight', 'repeat_2.5.branch0.bn.weight', 'repeat_2.5.branch0.bn.bias', 'repeat_2.5.branch0.bn.running_mean', 'repeat_2.5.branch0.bn.running_var', 'repeat_2.5.branch0.bn.num_batches_tracked', 'repeat_2.5.branch1.0.conv.weight', 'repeat_2.5.branch1.0.bn.weight', 'repeat_2.5.branch1.0.bn.bias', 'repeat_2.5.branch1.0.bn.running_mean', 'repeat_2.5.branch1.0.bn.running_var', 'repeat_2.5.branch1.0.bn.num_batches_tracked', 'repeat_2.5.branch1.1.conv.weight', 'repeat_2.5.branch1.1.bn.weight', 'repeat_2.5.branch1.1.bn.bias', 'repeat_2.5.branch1.1.bn.running_mean', 'repeat_2.5.branch1.1.bn.running_var', 'repeat_2.5.branch1.1.bn.num_batches_tracked', 'repeat_2.5.branch1.2.conv.weight', 'repeat_2.5.branch1.2.bn.weight', 'repeat_2.5.branch1.2.bn.bias', 'repeat_2.5.branch1.2.bn.running_mean', 'repeat_2.5.branch1.2.bn.running_var', 'repeat_2.5.branch1.2.bn.num_batches_tracked', 'repeat_2.5.conv2d.weight', 'repeat_2.5.conv2d.bias', 'repeat_2.6.branch0.conv.weight', 'repeat_2.6.branch0.bn.weight', 'repeat_2.6.branch0.bn.bias', 'repeat_2.6.branch0.bn.running_mean', 'repeat_2.6.branch0.bn.running_var', 'repeat_2.6.branch0.bn.num_batches_tracked', 'repeat_2.6.branch1.0.conv.weight', 'repeat_2.6.branch1.0.bn.weight', 'repeat_2.6.branch1.0.bn.bias', 'repeat_2.6.branch1.0.bn.running_mean', 'repeat_2.6.branch1.0.bn.running_var', 'repeat_2.6.branch1.0.bn.num_batches_tracked', 'repeat_2.6.branch1.1.conv.weight', 'repeat_2.6.branch1.1.bn.weight', 'repeat_2.6.branch1.1.bn.bias', 'repeat_2.6.branch1.1.bn.running_mean', 'repeat_2.6.branch1.1.bn.running_var', 'repeat_2.6.branch1.1.bn.num_batches_tracked', 'repeat_2.6.branch1.2.conv.weight', 'repeat_2.6.branch1.2.bn.weight', 'repeat_2.6.branch1.2.bn.bias', 'repeat_2.6.branch1.2.bn.running_mean', 'repeat_2.6.branch1.2.bn.running_var', 'repeat_2.6.branch1.2.bn.num_batches_tracked', 'repeat_2.6.conv2d.weight', 'repeat_2.6.conv2d.bias', 'repeat_2.7.branch0.conv.weight', 'repeat_2.7.branch0.bn.weight', 'repeat_2.7.branch0.bn.bias', 'repeat_2.7.branch0.bn.running_mean', 'repeat_2.7.branch0.bn.running_var', 'repeat_2.7.branch0.bn.num_batches_tracked', 'repeat_2.7.branch1.0.conv.weight', 'repeat_2.7.branch1.0.bn.weight', 'repeat_2.7.branch1.0.bn.bias', 'repeat_2.7.branch1.0.bn.running_mean', 'repeat_2.7.branch1.0.bn.running_var', 'repeat_2.7.branch1.0.bn.num_batches_tracked', 'repeat_2.7.branch1.1.conv.weight', 'repeat_2.7.branch1.1.bn.weight', 'repeat_2.7.branch1.1.bn.bias', 'repeat_2.7.branch1.1.bn.running_mean', 'repeat_2.7.branch1.1.bn.running_var', 'repeat_2.7.branch1.1.bn.num_batches_tracked', 'repeat_2.7.branch1.2.conv.weight', 'repeat_2.7.branch1.2.bn.weight', 'repeat_2.7.branch1.2.bn.bias', 'repeat_2.7.branch1.2.bn.running_mean', 'repeat_2.7.branch1.2.bn.running_var', 'repeat_2.7.branch1.2.bn.num_batches_tracked', 'repeat_2.7.conv2d.weight', 'repeat_2.7.conv2d.bias', 'repeat_2.8.branch0.conv.weight', 'repeat_2.8.branch0.bn.weight', 'repeat_2.8.branch0.bn.bias', 'repeat_2.8.branch0.bn.running_mean', 'repeat_2.8.branch0.bn.running_var', 'repeat_2.8.branch0.bn.num_batches_tracked', 'repeat_2.8.branch1.0.conv.weight', 'repeat_2.8.branch1.0.bn.weight', 'repeat_2.8.branch1.0.bn.bias', 'repeat_2.8.branch1.0.bn.running_mean', 'repeat_2.8.branch1.0.bn.running_var', 'repeat_2.8.branch1.0.bn.num_batches_tracked', 'repeat_2.8.branch1.1.conv.weight', 'repeat_2.8.branch1.1.bn.weight', 'repeat_2.8.branch1.1.bn.bias', 'repeat_2.8.branch1.1.bn.running_mean', 'repeat_2.8.branch1.1.bn.running_var', 'repeat_2.8.branch1.1.bn.num_batches_tracked', 'repeat_2.8.branch1.2.conv.weight', 'repeat_2.8.branch1.2.bn.weight', 'repeat_2.8.branch1.2.bn.bias', 'repeat_2.8.branch1.2.bn.running_mean', 'repeat_2.8.branch1.2.bn.running_var', 'repeat_2.8.branch1.2.bn.num_batches_tracked', 'repeat_2.8.conv2d.weight', 'repeat_2.8.conv2d.bias', 'repeat_2.9.branch0.conv.weight', 'repeat_2.9.branch0.bn.weight', 'repeat_2.9.branch0.bn.bias', 'repeat_2.9.branch0.bn.running_mean', 'repeat_2.9.branch0.bn.running_var', 'repeat_2.9.branch0.bn.num_batches_tracked', 'repeat_2.9.branch1.0.conv.weight', 'repeat_2.9.branch1.0.bn.weight', 'repeat_2.9.branch1.0.bn.bias', 'repeat_2.9.branch1.0.bn.running_mean', 'repeat_2.9.branch1.0.bn.running_var', 'repeat_2.9.branch1.0.bn.num_batches_tracked', 'repeat_2.9.branch1.1.conv.weight', 'repeat_2.9.branch1.1.bn.weight', 'repeat_2.9.branch1.1.bn.bias', 'repeat_2.9.branch1.1.bn.running_mean', 'repeat_2.9.branch1.1.bn.running_var', 'repeat_2.9.branch1.1.bn.num_batches_tracked', 'repeat_2.9.branch1.2.conv.weight', 'repeat_2.9.branch1.2.bn.weight', 'repeat_2.9.branch1.2.bn.bias', 'repeat_2.9.branch1.2.bn.running_mean', 'repeat_2.9.branch1.2.bn.running_var', 'repeat_2.9.branch1.2.bn.num_batches_tracked', 'repeat_2.9.conv2d.weight', 'repeat_2.9.conv2d.bias', 'mixed_7a.branch0.0.conv.weight', 'mixed_7a.branch0.0.bn.weight', 'mixed_7a.branch0.0.bn.bias', 'mixed_7a.branch0.0.bn.running_mean', 'mixed_7a.branch0.0.bn.running_var', 'mixed_7a.branch0.0.bn.num_batches_tracked', 'mixed_7a.branch0.1.conv.weight', 'mixed_7a.branch0.1.bn.weight', 'mixed_7a.branch0.1.bn.bias', 'mixed_7a.branch0.1.bn.running_mean', 'mixed_7a.branch0.1.bn.running_var', 'mixed_7a.branch0.1.bn.num_batches_tracked', 'mixed_7a.branch1.0.conv.weight', 'mixed_7a.branch1.0.bn.weight', 'mixed_7a.branch1.0.bn.bias', 'mixed_7a.branch1.0.bn.running_mean', 'mixed_7a.branch1.0.bn.running_var', 'mixed_7a.branch1.0.bn.num_batches_tracked', 'mixed_7a.branch1.1.conv.weight', 'mixed_7a.branch1.1.bn.weight', 'mixed_7a.branch1.1.bn.bias', 'mixed_7a.branch1.1.bn.running_mean', 'mixed_7a.branch1.1.bn.running_var', 'mixed_7a.branch1.1.bn.num_batches_tracked', 'mixed_7a.branch2.0.conv.weight', 'mixed_7a.branch2.0.bn.weight', 'mixed_7a.branch2.0.bn.bias', 'mixed_7a.branch2.0.bn.running_mean', 'mixed_7a.branch2.0.bn.running_var', 'mixed_7a.branch2.0.bn.num_batches_tracked', 'mixed_7a.branch2.1.conv.weight', 'mixed_7a.branch2.1.bn.weight', 'mixed_7a.branch2.1.bn.bias', 'mixed_7a.branch2.1.bn.running_mean', 'mixed_7a.branch2.1.bn.running_var', 'mixed_7a.branch2.1.bn.num_batches_tracked', 'mixed_7a.branch2.2.conv.weight', 'mixed_7a.branch2.2.bn.weight', 'mixed_7a.branch2.2.bn.bias', 'mixed_7a.branch2.2.bn.running_mean', 'mixed_7a.branch2.2.bn.running_var', 'mixed_7a.branch2.2.bn.num_batches_tracked', 'repeat_3.0.branch0.conv.weight', 'repeat_3.0.branch0.bn.weight', 'repeat_3.0.branch0.bn.bias', 'repeat_3.0.branch0.bn.running_mean', 'repeat_3.0.branch0.bn.running_var', 'repeat_3.0.branch0.bn.num_batches_tracked', 'repeat_3.0.branch1.0.conv.weight', 'repeat_3.0.branch1.0.bn.weight', 'repeat_3.0.branch1.0.bn.bias', 'repeat_3.0.branch1.0.bn.running_mean', 'repeat_3.0.branch1.0.bn.running_var', 'repeat_3.0.branch1.0.bn.num_batches_tracked', 'repeat_3.0.branch1.1.conv.weight', 'repeat_3.0.branch1.1.bn.weight', 'repeat_3.0.branch1.1.bn.bias', 'repeat_3.0.branch1.1.bn.running_mean', 'repeat_3.0.branch1.1.bn.running_var', 'repeat_3.0.branch1.1.bn.num_batches_tracked', 'repeat_3.0.branch1.2.conv.weight', 'repeat_3.0.branch1.2.bn.weight', 'repeat_3.0.branch1.2.bn.bias', 'repeat_3.0.branch1.2.bn.running_mean', 'repeat_3.0.branch1.2.bn.running_var', 'repeat_3.0.branch1.2.bn.num_batches_tracked', 'repeat_3.0.conv2d.weight', 'repeat_3.0.conv2d.bias', 'repeat_3.1.branch0.conv.weight', 'repeat_3.1.branch0.bn.weight', 'repeat_3.1.branch0.bn.bias', 'repeat_3.1.branch0.bn.running_mean', 'repeat_3.1.branch0.bn.running_var', 'repeat_3.1.branch0.bn.num_batches_tracked', 'repeat_3.1.branch1.0.conv.weight', 'repeat_3.1.branch1.0.bn.weight', 'repeat_3.1.branch1.0.bn.bias', 'repeat_3.1.branch1.0.bn.running_mean', 'repeat_3.1.branch1.0.bn.running_var', 'repeat_3.1.branch1.0.bn.num_batches_tracked', 'repeat_3.1.branch1.1.conv.weight', 'repeat_3.1.branch1.1.bn.weight', 'repeat_3.1.branch1.1.bn.bias', 'repeat_3.1.branch1.1.bn.running_mean', 'repeat_3.1.branch1.1.bn.running_var', 'repeat_3.1.branch1.1.bn.num_batches_tracked', 'repeat_3.1.branch1.2.conv.weight', 'repeat_3.1.branch1.2.bn.weight', 'repeat_3.1.branch1.2.bn.bias', 'repeat_3.1.branch1.2.bn.running_mean', 'repeat_3.1.branch1.2.bn.running_var', 'repeat_3.1.branch1.2.bn.num_batches_tracked', 'repeat_3.1.conv2d.weight', 'repeat_3.1.conv2d.bias', 'repeat_3.2.branch0.conv.weight', 'repeat_3.2.branch0.bn.weight', 'repeat_3.2.branch0.bn.bias', 'repeat_3.2.branch0.bn.running_mean', 'repeat_3.2.branch0.bn.running_var', 'repeat_3.2.branch0.bn.num_batches_tracked', 'repeat_3.2.branch1.0.conv.weight', 'repeat_3.2.branch1.0.bn.weight', 'repeat_3.2.branch1.0.bn.bias', 'repeat_3.2.branch1.0.bn.running_mean', 'repeat_3.2.branch1.0.bn.running_var', 'repeat_3.2.branch1.0.bn.num_batches_tracked', 'repeat_3.2.branch1.1.conv.weight', 'repeat_3.2.branch1.1.bn.weight', 'repeat_3.2.branch1.1.bn.bias', 'repeat_3.2.branch1.1.bn.running_mean', 'repeat_3.2.branch1.1.bn.running_var', 'repeat_3.2.branch1.1.bn.num_batches_tracked', 'repeat_3.2.branch1.2.conv.weight', 'repeat_3.2.branch1.2.bn.weight', 'repeat_3.2.branch1.2.bn.bias', 'repeat_3.2.branch1.2.bn.running_mean', 'repeat_3.2.branch1.2.bn.running_var', 'repeat_3.2.branch1.2.bn.num_batches_tracked', 'repeat_3.2.conv2d.weight', 'repeat_3.2.conv2d.bias', 'repeat_3.3.branch0.conv.weight', 'repeat_3.3.branch0.bn.weight', 'repeat_3.3.branch0.bn.bias', 'repeat_3.3.branch0.bn.running_mean', 'repeat_3.3.branch0.bn.running_var', 'repeat_3.3.branch0.bn.num_batches_tracked', 'repeat_3.3.branch1.0.conv.weight', 'repeat_3.3.branch1.0.bn.weight', 'repeat_3.3.branch1.0.bn.bias', 'repeat_3.3.branch1.0.bn.running_mean', 'repeat_3.3.branch1.0.bn.running_var', 'repeat_3.3.branch1.0.bn.num_batches_tracked', 'repeat_3.3.branch1.1.conv.weight', 'repeat_3.3.branch1.1.bn.weight', 'repeat_3.3.branch1.1.bn.bias', 'repeat_3.3.branch1.1.bn.running_mean', 'repeat_3.3.branch1.1.bn.running_var', 'repeat_3.3.branch1.1.bn.num_batches_tracked', 'repeat_3.3.branch1.2.conv.weight', 'repeat_3.3.branch1.2.bn.weight', 'repeat_3.3.branch1.2.bn.bias', 'repeat_3.3.branch1.2.bn.running_mean', 'repeat_3.3.branch1.2.bn.running_var', 'repeat_3.3.branch1.2.bn.num_batches_tracked', 'repeat_3.3.conv2d.weight', 'repeat_3.3.conv2d.bias', 'repeat_3.4.branch0.conv.weight', 'repeat_3.4.branch0.bn.weight', 'repeat_3.4.branch0.bn.bias', 'repeat_3.4.branch0.bn.running_mean', 'repeat_3.4.branch0.bn.running_var', 'repeat_3.4.branch0.bn.num_batches_tracked', 'repeat_3.4.branch1.0.conv.weight', 'repeat_3.4.branch1.0.bn.weight', 'repeat_3.4.branch1.0.bn.bias', 'repeat_3.4.branch1.0.bn.running_mean', 'repeat_3.4.branch1.0.bn.running_var', 'repeat_3.4.branch1.0.bn.num_batches_tracked', 'repeat_3.4.branch1.1.conv.weight', 'repeat_3.4.branch1.1.bn.weight', 'repeat_3.4.branch1.1.bn.bias', 'repeat_3.4.branch1.1.bn.running_mean', 'repeat_3.4.branch1.1.bn.running_var', 'repeat_3.4.branch1.1.bn.num_batches_tracked', 'repeat_3.4.branch1.2.conv.weight', 'repeat_3.4.branch1.2.bn.weight', 'repeat_3.4.branch1.2.bn.bias', 'repeat_3.4.branch1.2.bn.running_mean', 'repeat_3.4.branch1.2.bn.running_var', 'repeat_3.4.branch1.2.bn.num_batches_tracked', 'repeat_3.4.conv2d.weight', 'repeat_3.4.conv2d.bias', 'block8.branch0.conv.weight', 'block8.branch0.bn.weight', 'block8.branch0.bn.bias', 'block8.branch0.bn.running_mean', 'block8.branch0.bn.running_var', 'block8.branch0.bn.num_batches_tracked', 'block8.branch1.0.conv.weight', 'block8.branch1.0.bn.weight', 'block8.branch1.0.bn.bias', 'block8.branch1.0.bn.running_mean', 'block8.branch1.0.bn.running_var', 'block8.branch1.0.bn.num_batches_tracked', 'block8.branch1.1.conv.weight', 'block8.branch1.1.bn.weight', 'block8.branch1.1.bn.bias', 'block8.branch1.1.bn.running_mean', 'block8.branch1.1.bn.running_var', 'block8.branch1.1.bn.num_batches_tracked', 'block8.branch1.2.conv.weight', 'block8.branch1.2.bn.weight', 'block8.branch1.2.bn.bias', 'block8.branch1.2.bn.running_mean', 'block8.branch1.2.bn.running_var', 'block8.branch1.2.bn.num_batches_tracked', 'block8.conv2d.weight', 'block8.conv2d.bias', 'last_linear.weight', 'last_bn.weight', 'last_bn.bias', 'last_bn.running_mean', 'last_bn.running_var', 'last_bn.num_batches_tracked', 'logits.weight', 'logits.bias'])"
      ]
     },
     "execution_count": 7,
     "metadata": {},
     "output_type": "execute_result"
    }
   ],
   "source": [
    "resnet.state_dict().keys()"
   ]
  },
  {
   "cell_type": "code",
   "execution_count": 10,
   "metadata": {},
   "outputs": [],
   "source": [
    "#freeze layers\n",
    "for param in resnet.parameters():\n",
    "    param.requires_grad = False\n",
    "\n",
    "resnet.last_bn.weight.requires_grad = True\n",
    "resnet.last_bn.bias.requires_grad = True\n",
    "resnet.last_linear.weight.requires_grad = True\n",
    "\n",
    "    "
   ]
  },
  {
   "cell_type": "markdown",
   "metadata": {},
   "source": [
    "#### Define optimizer, scheduler, dataset, and dataloader"
   ]
  },
  {
   "cell_type": "code",
   "execution_count": 13,
   "metadata": {},
   "outputs": [],
   "source": [
    "optimizer = optim.Adam(resnet.parameters(), lr=0.001)\n",
    "scheduler = MultiStepLR(optimizer, [5, 10])\n",
    "\n",
    "trans = transforms.Compose([\n",
    "    np.float32,\n",
    "    transforms.ToTensor(),\n",
    "    fixed_image_standardization\n",
    "])\n",
    "dataset = datasets.ImageFolder(data_dir + '_cropped', transform=trans)\n",
    "img_inds = np.arange(len(dataset))\n",
    "np.random.shuffle(img_inds)\n",
    "train_inds = img_inds[:int(0.8 * len(img_inds))]\n",
    "val_inds = img_inds[int(0.8 * len(img_inds)):]\n",
    "\n",
    "train_loader = DataLoader(\n",
    "    dataset,\n",
    "    num_workers=workers,\n",
    "    batch_size=batch_size,\n",
    "    sampler=SubsetRandomSampler(train_inds)\n",
    ")\n",
    "val_loader = DataLoader(\n",
    "    dataset,\n",
    "    num_workers=workers,\n",
    "    batch_size=batch_size,\n",
    "    sampler=SubsetRandomSampler(val_inds)\n",
    ")"
   ]
  },
  {
   "cell_type": "markdown",
   "metadata": {},
   "source": [
    "#### Define loss and evaluation functions"
   ]
  },
  {
   "cell_type": "code",
   "execution_count": 14,
   "metadata": {},
   "outputs": [],
   "source": [
    "loss_fn = torch.nn.CrossEntropyLoss()\n",
    "metrics = {\n",
    "    'fps': training.BatchTimer(),\n",
    "    'acc': training.accuracy\n",
    "}"
   ]
  },
  {
   "cell_type": "markdown",
   "metadata": {},
   "source": [
    "#### Train model"
   ]
  },
  {
   "cell_type": "code",
   "execution_count": 15,
   "metadata": {},
   "outputs": [
    {
     "name": "stdout",
     "output_type": "stream",
     "text": [
      "\n",
      "\n",
      "Initial\n",
      "----------\n",
      "Valid |    59/59   | loss:    3.4289 | fps:   17.6495 | acc:    0.0387   \n",
      "\n",
      "Epoch 1/8\n",
      "----------\n",
      "Train |   234/234  | loss:    0.6190 | fps:   16.4215 | acc:    0.8626   \n",
      "Valid |    59/59   | loss:    0.3887 | fps:   17.6030 | acc:    0.9231   \n",
      "\n",
      "Epoch 2/8\n",
      "----------\n",
      "Train |   234/234  | loss:    0.4518 | fps:   16.4594 | acc:    0.9040   \n",
      "Valid |    59/59   | loss:    0.3615 | fps:   17.9722 | acc:    0.9205   \n",
      "\n",
      "Epoch 3/8\n",
      "----------\n",
      "Train |   234/234  | loss:    0.4141 | fps:   16.1911 | acc:    0.9116   \n",
      "Valid |    13/59   | loss:    0.3912 | fps:   15.4112 | acc:    0.9159   "
     ]
    }
   ],
   "source": [
    "writer = SummaryWriter()\n",
    "writer.iteration, writer.interval = 0, 10\n",
    "\n",
    "print('\\n\\nInitial')\n",
    "print('-' * 10)\n",
    "resnet.eval()\n",
    "training.pass_epoch(\n",
    "    resnet, loss_fn, val_loader,\n",
    "    batch_metrics=metrics, show_running=True, device=device,\n",
    "    writer=writer\n",
    ")\n",
    "\n",
    "for epoch in range(epochs):\n",
    "    print('\\nEpoch {}/{}'.format(epoch + 1, epochs))\n",
    "    print('-' * 10)\n",
    "\n",
    "    resnet.train()\n",
    "    training.pass_epoch(\n",
    "        resnet, loss_fn, train_loader, optimizer, scheduler,\n",
    "        batch_metrics=metrics, show_running=True, device=device,\n",
    "        writer=writer\n",
    "    )\n",
    "\n",
    "    resnet.eval()\n",
    "    training.pass_epoch(\n",
    "        resnet, loss_fn, val_loader,\n",
    "        batch_metrics=metrics, show_running=True, device=device,\n",
    "        writer=writer\n",
    "    )\n",
    "\n",
    "writer.close()"
   ]
  },
  {
   "cell_type": "code",
   "execution_count": null,
   "metadata": {},
   "outputs": [],
   "source": [
    "#save model\n",
    "torch.save(resnet.state_dict(), 'resnetmodel_finetune.pt')"
   ]
  }
 ],
 "metadata": {
  "kernelspec": {
   "display_name": "Python 3.8.13 ('tf')",
   "language": "python",
   "name": "python3"
  },
  "language_info": {
   "codemirror_mode": {
    "name": "ipython",
    "version": 3
   },
   "file_extension": ".py",
   "mimetype": "text/x-python",
   "name": "python",
   "nbconvert_exporter": "python",
   "pygments_lexer": "ipython3",
   "version": "3.8.13"
  },
  "vscode": {
   "interpreter": {
    "hash": "52ee2977380704a66854748a73250e0671a9318bd5b3fd45a3df9f851ae61629"
   }
  }
 },
 "nbformat": 4,
 "nbformat_minor": 2
}
