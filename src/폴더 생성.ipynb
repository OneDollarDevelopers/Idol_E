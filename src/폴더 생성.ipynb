{
 "cells": [
  {
   "cell_type": "code",
   "execution_count": 1,
   "metadata": {},
   "outputs": [],
   "source": [
    "import os\n",
    "\n",
    "names = \"heejin\", \"hyunjin\", \"haseul\", \"yeojin\", \"vivi\", \"kim lip\",\"jinsoul\",\"choilee\", \"yves\",\"gowon\",\"olivia hye\",\"chuu\"\n",
    " \n",
    "def createFolder(directory):\n",
    "    try:\n",
    "        if not os.path.exists(directory):\n",
    "            os.makedirs(directory)\n",
    "    except OSError:\n",
    "        print ('Error: Creating directory. ' +  directory)\n",
    "\n",
    "for name in names:\n",
    "    createFolder(name)"
   ]
  }
 ],
 "metadata": {
  "kernelspec": {
   "display_name": "Python 3.9.13 ('base')",
   "language": "python",
   "name": "python3"
  },
  "language_info": {
   "codemirror_mode": {
    "name": "ipython",
    "version": 3
   },
   "file_extension": ".py",
   "mimetype": "text/x-python",
   "name": "python",
   "nbconvert_exporter": "python",
   "pygments_lexer": "ipython3",
   "version": "3.9.13"
  },
  "orig_nbformat": 4,
  "vscode": {
   "interpreter": {
    "hash": "bc6b6a04635e20915b4648c6f217826c28483abed9316364b3178afc03ed9a19"
   }
  }
 },
 "nbformat": 4,
 "nbformat_minor": 2
}
