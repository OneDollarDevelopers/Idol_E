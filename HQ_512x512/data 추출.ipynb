{
 "cells": [
  {
   "cell_type": "code",
   "execution_count": 2,
   "metadata": {},
   "outputs": [
    {
     "name": "stdout",
     "output_type": "stream",
     "text": [
      "HQ_512x512\\HQ_512x512\n"
     ]
    }
   ],
   "source": [
    "import os\n",
    "\n",
    "dir_path = \"HQ_512x512\"\n",
    "file_list = []\n",
    "\n",
    "for (root, directories, files) in os.walk(dir_path):\n",
    "    for d in directories:\n",
    "        d_path = os.path.join(root, d)\n",
    "        print(d_path)\n",
    "\n",
    "    for file in files:\n",
    "        file_path = os.path.join(root, file)\n",
    "        file_list.append(file_path)"
   ]
  },
  {
   "cell_type": "code",
   "execution_count": 6,
   "metadata": {},
   "outputs": [],
   "source": [
    "import csv\n",
    "\n",
    "train_list = []\n",
    " \n",
    "f = open('kid_f_train.csv', 'r', encoding='utf-8')\n",
    "rdr = csv.reader(f)\n",
    "for line in rdr:\n",
    "    train_list.append(line)\n",
    "del train_list[0]\n",
    "del train_list[-1]\n",
    "f.close()"
   ]
  },
  {
   "cell_type": "code",
   "execution_count": 15,
   "metadata": {},
   "outputs": [],
   "source": [
    "import shutil\n",
    "\n",
    "names = \"oliviahye\"\n",
    "save_folder = \"데이터/올리비아 해/\"\n",
    "\n",
    "for i in train_list:\n",
    "    if i[1] == names:\n",
    "        file = i[0]\n",
    "        copy_dir = os.path.join(\"HQ_512x512\\HQ_512x512\", file)\n",
    "        save_dir = os.path.join(save_folder, file)\n",
    "        shutil.copyfile(copy_dir, save_dir)\n"
   ]
  }
 ],
 "metadata": {
  "kernelspec": {
   "display_name": "Python 3.11.0 64-bit",
   "language": "python",
   "name": "python3"
  },
  "language_info": {
   "codemirror_mode": {
    "name": "ipython",
    "version": 3
   },
   "file_extension": ".py",
   "mimetype": "text/x-python",
   "name": "python",
   "nbconvert_exporter": "python",
   "pygments_lexer": "ipython3",
   "version": "3.11.0"
  },
  "orig_nbformat": 4,
  "vscode": {
   "interpreter": {
    "hash": "4b450e582db2a57c34d6d5a29c7d9d66a7b81f2cd0061637d26146440a1f4bad"
   }
  }
 },
 "nbformat": 4,
 "nbformat_minor": 2
}
